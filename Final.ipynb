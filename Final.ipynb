{
 "cells": [
  {
   "cell_type": "code",
   "execution_count": 1,
   "metadata": {},
   "outputs": [
    {
     "name": "stdout",
     "output_type": "stream",
     "text": [
      "Requirement already satisfied: geopy in /home/jupyterlab/conda/envs/python/lib/python3.6/site-packages (1.20.0)\n",
      "Requirement already satisfied: geographiclib<2,>=1.49 in /home/jupyterlab/conda/envs/python/lib/python3.6/site-packages (from geopy) (1.49)\n",
      "Note: you may need to restart the kernel to use updated packages.\n"
     ]
    }
   ],
   "source": [
    "pip install geopy"
   ]
  },
  {
   "cell_type": "code",
   "execution_count": 9,
   "metadata": {},
   "outputs": [
    {
     "name": "stdout",
     "output_type": "stream",
     "text": [
      "Solving environment: - ^C\n",
      "failed\n",
      "\n",
      "CondaError: KeyboardInterrupt\n",
      "\n",
      "Solving environment: / ^C\n",
      "failed\n",
      "\n",
      "CondaError: KeyboardInterrupt\n",
      "\n",
      "Folium installed\n",
      "Libraries imported.\n"
     ]
    }
   ],
   "source": [
    "import requests # library to handle requests\n",
    "import pandas as pd # library for data analsysis\n",
    "import numpy as np # library to handle data in a vectorized manner\n",
    "import random # library for random number generation\n",
    "\n",
    "!conda install -c conda-forge geopy --yes \n",
    "from geopy.geocoders import Nominatim # module to convert an address into latitude and longitude values\n",
    "\n",
    "# libraries for displaying images\n",
    "from IPython.display import Image \n",
    "from IPython.core.display import HTML \n",
    "    \n",
    "# tranforming json file into a pandas dataframe library\n",
    "from pandas.io.json import json_normalize\n",
    "\n",
    "!conda install -c conda-forge folium=0.5.0 --yes\n",
    "import folium # plotting library\n",
    "\n",
    "print('Folium installed')\n",
    "print('Libraries imported.')"
   ]
  },
  {
   "cell_type": "code",
   "execution_count": 4,
   "metadata": {},
   "outputs": [
    {
     "name": "stderr",
     "output_type": "stream",
     "text": [
      "/home/jupyterlab/conda/envs/python/lib/python3.6/site-packages/ipykernel_launcher.py:2: DeprecationWarning: Using Nominatim with the default \"geopy/1.20.0\" `user_agent` is strongly discouraged, as it violates Nominatim's ToS https://operations.osmfoundation.org/policies/nominatim/ and may possibly cause 403 and 429 HTTP errors. Please specify a custom `user_agent` with `Nominatim(user_agent=\"my-application\")` or by overriding the default `user_agent`: `geopy.geocoders.options.default_user_agent = \"my-application\"`. In geopy 2.0 this will become an exception.\n",
      "  \n"
     ]
    },
    {
     "name": "stdout",
     "output_type": "stream",
     "text": [
      "The geograpical coordinate of Hyderabad home are 17.38878595, 78.4610647345315.\n"
     ]
    }
   ],
   "source": [
    "address = 'Hyderabad, India'\n",
    "geolocator = Nominatim()\n",
    "location = geolocator.geocode(address)\n",
    "latitude = location.latitude\n",
    "longitude = location.longitude\n",
    "print('The geograpical coordinate of Hyderabad home are {}, {}.'.format(latitude, longitude))"
   ]
  },
  {
   "cell_type": "code",
   "execution_count": 11,
   "metadata": {},
   "outputs": [],
   "source": [
    "CLIENT_ID = 'ZZXVI3CZNZ1G4PY1WUFCZ1HXTRKQPVTE20CZOCRXNA3JI0S3' # your Foursquare ID\n",
    "CLIENT_SECRET = 'JD4JUKMRCQCYPMLB5NMPTTJ0ATRGOEIKYT3KM4TDDQSJSNEU' # your Foursquare Secret\n",
    "VERSION = '20190902' # Foursquare API version"
   ]
  },
  {
   "cell_type": "code",
   "execution_count": 12,
   "metadata": {},
   "outputs": [],
   "source": [
    "neighborhood_latitude=17.38878595\n",
    "neighborhood_longitude=78.4610647345315"
   ]
  },
  {
   "cell_type": "code",
   "execution_count": 13,
   "metadata": {},
   "outputs": [
    {
     "data": {
      "text/plain": [
       "'https://api.foursquare.com/v2/venues/explore?&client_id=ZZXVI3CZNZ1G4PY1WUFCZ1HXTRKQPVTE20CZOCRXNA3JI0S3&client_secret=JD4JUKMRCQCYPMLB5NMPTTJ0ATRGOEIKYT3KM4TDDQSJSNEU&v=20190902&ll=17.38878595,78.4610647345315&radius=500&limit=100'"
      ]
     },
     "execution_count": 13,
     "metadata": {},
     "output_type": "execute_result"
    }
   ],
   "source": [
    "LIMIT = 100 # limit of number of venues returned by Foursquare API\n",
    "radius = 500 # define radius\n",
    "# create URL\n",
    "url = 'https://api.foursquare.com/v2/venues/explore?&client_id={}&client_secret={}&v={}&ll={},{}&radius={}&limit={}'.format(\n",
    "    CLIENT_ID, \n",
    "    CLIENT_SECRET, \n",
    "    VERSION, \n",
    "    neighborhood_latitude, \n",
    "    neighborhood_longitude, \n",
    "    radius, \n",
    "    LIMIT)\n",
    "url # display URL"
   ]
  },
  {
   "cell_type": "code",
   "execution_count": 15,
   "metadata": {
    "collapsed": true,
    "jupyter": {
     "outputs_hidden": true
    }
   },
   "outputs": [
    {
     "data": {
      "text/plain": [
       "{'meta': {'code': 200, 'requestId': '5d6dd2e56adbf5002cdd6809'},\n",
       " 'response': {'headerLocation': 'Hyderabad',\n",
       "  'headerFullLocation': 'Hyderabad',\n",
       "  'headerLocationGranularity': 'city',\n",
       "  'totalResults': 4,\n",
       "  'suggestedBounds': {'ne': {'lat': 17.393285954500005,\n",
       "    'lng': 78.46577143885987},\n",
       "   'sw': {'lat': 17.384285945499993, 'lng': 78.45635803020313}},\n",
       "  'groups': [{'type': 'Recommended Places',\n",
       "    'name': 'recommended',\n",
       "    'items': [{'reasons': {'count': 0,\n",
       "       'items': [{'summary': 'This spot is popular',\n",
       "         'type': 'general',\n",
       "         'reasonName': 'globalInteractionReason'}]},\n",
       "      'venue': {'id': '4c6c20ef23c1a1cd47b218cf',\n",
       "       'name': 'Al-humdulillah Hotel',\n",
       "       'location': {'lat': 17.390728238550555,\n",
       "        'lng': 78.46299202576266,\n",
       "        'labeledLatLngs': [{'label': 'display',\n",
       "          'lat': 17.390728238550555,\n",
       "          'lng': 78.46299202576266}],\n",
       "        'distance': 297,\n",
       "        'cc': 'IN',\n",
       "        'country': 'India',\n",
       "        'formattedAddress': ['India']},\n",
       "       'categories': [{'id': '4bf58dd8d48988d10f941735',\n",
       "         'name': 'Indian Restaurant',\n",
       "         'pluralName': 'Indian Restaurants',\n",
       "         'shortName': 'Indian',\n",
       "         'icon': {'prefix': 'https://ss3.4sqi.net/img/categories_v2/food/indian_',\n",
       "          'suffix': '.png'},\n",
       "         'primary': True}],\n",
       "       'photos': {'count': 0, 'groups': []}},\n",
       "      'referralId': 'e-0-4c6c20ef23c1a1cd47b218cf-0'},\n",
       "     {'reasons': {'count': 0,\n",
       "       'items': [{'summary': 'This spot is popular',\n",
       "         'type': 'general',\n",
       "         'reasonName': 'globalInteractionReason'}]},\n",
       "      'venue': {'id': '502e86dee4b047efecf80622',\n",
       "       'name': 'Milan Juice Center',\n",
       "       'location': {'address': 'Mallepally',\n",
       "        'lat': 17.39226641852024,\n",
       "        'lng': 78.45810176639692,\n",
       "        'labeledLatLngs': [{'label': 'display',\n",
       "          'lat': 17.39226641852024,\n",
       "          'lng': 78.45810176639692}],\n",
       "        'distance': 499,\n",
       "        'cc': 'IN',\n",
       "        'city': 'Hyderabad',\n",
       "        'state': 'Telangana',\n",
       "        'country': 'India',\n",
       "        'formattedAddress': ['Mallepally', 'Hyderabad', 'Telangana', 'India']},\n",
       "       'categories': [{'id': '4bf58dd8d48988d1c7941735',\n",
       "         'name': 'Snack Place',\n",
       "         'pluralName': 'Snack Places',\n",
       "         'shortName': 'Snacks',\n",
       "         'icon': {'prefix': 'https://ss3.4sqi.net/img/categories_v2/food/snacks_',\n",
       "          'suffix': '.png'},\n",
       "         'primary': True}],\n",
       "       'photos': {'count': 0, 'groups': []}},\n",
       "      'referralId': 'e-0-502e86dee4b047efecf80622-1'},\n",
       "     {'reasons': {'count': 0,\n",
       "       'items': [{'summary': 'This spot is popular',\n",
       "         'type': 'general',\n",
       "         'reasonName': 'globalInteractionReason'}]},\n",
       "      'venue': {'id': '4d60efc91ee8721e55b9b021',\n",
       "       'name': 'Feel in Saudi',\n",
       "       'location': {'address': 'Nampally',\n",
       "        'lat': 17.390702065594958,\n",
       "        'lng': 78.46360259794517,\n",
       "        'labeledLatLngs': [{'label': 'display',\n",
       "          'lat': 17.390702065594958,\n",
       "          'lng': 78.46360259794517}],\n",
       "        'distance': 343,\n",
       "        'cc': 'IN',\n",
       "        'city': 'Hyderabad',\n",
       "        'state': 'Telangana',\n",
       "        'country': 'India',\n",
       "        'formattedAddress': ['Nampally', 'Hyderabad', 'Telangana', 'India']},\n",
       "       'categories': [{'id': '503288ae91d4c4b30a586d67',\n",
       "         'name': 'Afghan Restaurant',\n",
       "         'pluralName': 'Afghan Restaurants',\n",
       "         'shortName': 'Afghan',\n",
       "         'icon': {'prefix': 'https://ss3.4sqi.net/img/categories_v2/food/afghan_',\n",
       "          'suffix': '.png'},\n",
       "         'primary': True}],\n",
       "       'photos': {'count': 0, 'groups': []}},\n",
       "      'referralId': 'e-0-4d60efc91ee8721e55b9b021-2'},\n",
       "     {'reasons': {'count': 0,\n",
       "       'items': [{'summary': 'This spot is popular',\n",
       "         'type': 'general',\n",
       "         'reasonName': 'globalInteractionReason'}]},\n",
       "      'venue': {'id': '5230331f11d296a91f4ca15d',\n",
       "       'name': 'Chinese Kitchen',\n",
       "       'location': {'address': 'Mallepally',\n",
       "        'lat': 17.391587,\n",
       "        'lng': 78.45754,\n",
       "        'labeledLatLngs': [{'label': 'display',\n",
       "          'lat': 17.391587,\n",
       "          'lng': 78.45754}],\n",
       "        'distance': 487,\n",
       "        'cc': 'IN',\n",
       "        'city': 'Hyderabad',\n",
       "        'state': 'Telangana',\n",
       "        'country': 'India',\n",
       "        'formattedAddress': ['Mallepally', 'Hyderabad', 'Telangana', 'India']},\n",
       "       'categories': [{'id': '4bf58dd8d48988d145941735',\n",
       "         'name': 'Chinese Restaurant',\n",
       "         'pluralName': 'Chinese Restaurants',\n",
       "         'shortName': 'Chinese',\n",
       "         'icon': {'prefix': 'https://ss3.4sqi.net/img/categories_v2/food/asian_',\n",
       "          'suffix': '.png'},\n",
       "         'primary': True}],\n",
       "       'photos': {'count': 0, 'groups': []}},\n",
       "      'referralId': 'e-0-5230331f11d296a91f4ca15d-3'}]}]}}"
      ]
     },
     "execution_count": 15,
     "metadata": {},
     "output_type": "execute_result"
    }
   ],
   "source": [
    "\n",
    "\n",
    "# results display is hidden for report simplification \n",
    "results = requests.get(url).json()\n",
    "results"
   ]
  },
  {
   "cell_type": "code",
   "execution_count": 16,
   "metadata": {},
   "outputs": [],
   "source": [
    "def get_category_type(row):\n",
    "    try:\n",
    "        categories_list = row['categories']\n",
    "    except:\n",
    "        categories_list = row['venue.categories']\n",
    "        \n",
    "    if len(categories_list) == 0:\n",
    "        return None\n",
    "    else:\n",
    "        return categories_list[0]['name']"
   ]
  },
  {
   "cell_type": "code",
   "execution_count": 17,
   "metadata": {},
   "outputs": [
    {
     "data": {
      "text/plain": [
       "(4, 4)"
      ]
     },
     "execution_count": 17,
     "metadata": {},
     "output_type": "execute_result"
    }
   ],
   "source": [
    "venues = results['response']['groups'][0]['items']\n",
    "SGnearby_venues = json_normalize(venues) # flatten JSON\n",
    "# filter columns\n",
    "filtered_columns = ['venue.name', 'venue.categories', 'venue.location.lat', 'venue.location.lng']\n",
    "SGnearby_venues =SGnearby_venues.loc[:, filtered_columns]\n",
    "# filter the category for each row\n",
    "SGnearby_venues['venue.categories'] = SGnearby_venues.apply(get_category_type, axis=1)\n",
    "# clean columns\n",
    "SGnearby_venues.columns = [col.split(\".\")[-1] for col in SGnearby_venues.columns]\n",
    "\n",
    "SGnearby_venues.shape"
   ]
  },
  {
   "cell_type": "code",
   "execution_count": null,
   "metadata": {},
   "outputs": [],
   "source": [
    "SGnearby_venues.head(10)"
   ]
  }
 ],
 "metadata": {
  "kernelspec": {
   "display_name": "Python",
   "language": "python",
   "name": "conda-env-python-py"
  },
  "language_info": {
   "codemirror_mode": {
    "name": "ipython",
    "version": 3
   },
   "file_extension": ".py",
   "mimetype": "text/x-python",
   "name": "python",
   "nbconvert_exporter": "python",
   "pygments_lexer": "ipython3",
   "version": "3.6.7"
  }
 },
 "nbformat": 4,
 "nbformat_minor": 4
}
